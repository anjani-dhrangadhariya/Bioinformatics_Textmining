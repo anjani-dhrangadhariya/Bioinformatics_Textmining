{
 "cells": [
  {
   "cell_type": "markdown",
   "id": "54d7694a",
   "metadata": {},
   "source": [
    "# Compare performances"
   ]
  },
  {
   "cell_type": "markdown",
   "id": "2300f393",
   "metadata": {},
   "source": [
    "## order-bound"
   ]
  },
  {
   "cell_type": "code",
   "execution_count": null,
   "id": "2968cd8a",
   "metadata": {},
   "outputs": [],
   "source": [
    "# load order bound matches with all dictionaries"
   ]
  },
  {
   "cell_type": "code",
   "execution_count": null,
   "id": "ce2f622a",
   "metadata": {},
   "outputs": [],
   "source": []
  },
  {
   "cell_type": "markdown",
   "id": "0830cdae",
   "metadata": {},
   "source": [
    "## order-free"
   ]
  },
  {
   "cell_type": "code",
   "execution_count": null,
   "id": "4c46ca5f",
   "metadata": {},
   "outputs": [],
   "source": [
    "# load order free matches with all dictionaries"
   ]
  },
  {
   "cell_type": "code",
   "execution_count": null,
   "id": "dbd9671e",
   "metadata": {},
   "outputs": [],
   "source": []
  },
  {
   "cell_type": "markdown",
   "id": "6eb2bad4",
   "metadata": {},
   "source": [
    "## actual order-free"
   ]
  },
  {
   "cell_type": "code",
   "execution_count": null,
   "id": "0f977867",
   "metadata": {},
   "outputs": [],
   "source": [
    "# load (actual) order free matches with all dictionaries"
   ]
  }
 ],
 "metadata": {
  "kernelspec": {
   "display_name": "Python 3",
   "language": "python",
   "name": "python3"
  },
  "language_info": {
   "codemirror_mode": {
    "name": "ipython",
    "version": 3
   },
   "file_extension": ".py",
   "mimetype": "text/x-python",
   "name": "python",
   "nbconvert_exporter": "python",
   "pygments_lexer": "ipython3",
   "version": "3.8.10"
  }
 },
 "nbformat": 4,
 "nbformat_minor": 5
}
