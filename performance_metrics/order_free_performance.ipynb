{
 "cells": [
  {
   "cell_type": "markdown",
   "id": "59401921",
   "metadata": {},
   "source": [
    "# Order-free matching performance"
   ]
  },
  {
   "cell_type": "code",
   "execution_count": 142,
   "id": "b89e1d32",
   "metadata": {},
   "outputs": [],
   "source": [
    "# Generic imports\n",
    "\n",
    "import glob\n",
    "import os\n",
    "import pandas as pd\n",
    "from os import listdir\n",
    "from os.path import isfile, join\n",
    "import ast\n",
    "import json\n",
    "\n",
    "\n",
    "# Sklearn imports\n",
    "from sklearn.metrics import f1_score, recall_score\n",
    "from sklearn.metrics import accuracy_score, f1_score, precision_score, recall_score, classification_report, auc, roc_curve"
   ]
  },
  {
   "cell_type": "markdown",
   "id": "d52458f3",
   "metadata": {},
   "source": [
    "### Read order-free candidates"
   ]
  },
  {
   "cell_type": "code",
   "execution_count": 127,
   "id": "cb9a9ec9",
   "metadata": {},
   "outputs": [],
   "source": [
    "picos = 'I'"
   ]
  },
  {
   "cell_type": "code",
   "execution_count": 128,
   "id": "f60123ea",
   "metadata": {},
   "outputs": [],
   "source": [
    "order_free_doc_file = f'/mnt/nas2/results/Results/systematicReview/order_free_matching/EBM_PICO_training_matches/order_free/doc/{picos}/train_ebm_intervention_syn.json'\n",
    "orf_doc = dict()\n",
    "\n",
    "with open( order_free_doc_file, 'r' ) as rf:\n",
    "    orf_doc = json.load(rf)"
   ]
  },
  {
   "cell_type": "code",
   "execution_count": 156,
   "id": "d0933bd3",
   "metadata": {},
   "outputs": [],
   "source": [
    "def get_orf(orf, partial: bool):\n",
    "        \n",
    "    orf_doc_offsets = dict()\n",
    "\n",
    "    for i, (k, v) in enumerate(orf.items()):\n",
    "\n",
    "        if i == 0:\n",
    "            continue\n",
    "\n",
    "        if 'Inters. (full)' in v and len(v['Inters. (full)']) > 0 and len(v['tokens']) > 1:\n",
    "\n",
    "            for k_i, v_i in v['Inters. (full)'].items():\n",
    "\n",
    "                orf_doc_offsets[k_i] = []\n",
    "\n",
    "                if len( v_i['tokens'] ) > 1:\n",
    "\n",
    "                    source_tokens = v_i['tokens']\n",
    "                    source_offsets = v_i['char offs.']\n",
    "                    orf_doc_offsets[k_i].extend( source_offsets )\n",
    "                    \n",
    "        if partial == True:\n",
    "            \n",
    "            if 'Inters. (partial)' in v and len(v['Inters. (partial)']) > 0 and len(v['tokens']) > 1:\n",
    "\n",
    "                for k_i, v_i in v['Inters. (partial)'].items():\n",
    "\n",
    "                    orf_doc_offsets[k_i] = []\n",
    "\n",
    "                    if len( v_i['tokens'] ) > 1:\n",
    "\n",
    "                        source_tokens = v_i['tokens']\n",
    "                        source_offsets = v_i['char offs.']\n",
    "                        orf_doc_offsets[k_i].extend( source_offsets )\n",
    "            \n",
    "    \n",
    "    return orf_doc_offsets"
   ]
  },
  {
   "cell_type": "code",
   "execution_count": 158,
   "id": "e6dd3d97",
   "metadata": {},
   "outputs": [],
   "source": [
    "orf_doc_offsets_partial = get_orf(orf, partial = True)\n",
    "orf_doc_offsets_full = get_orf(orf, partial = False)"
   ]
  },
  {
   "cell_type": "code",
   "execution_count": 159,
   "id": "e99a206b",
   "metadata": {},
   "outputs": [
    {
     "data": {
      "text/plain": [
       "4216"
      ]
     },
     "execution_count": 159,
     "metadata": {},
     "output_type": "execute_result"
    }
   ],
   "source": [
    "len(orf_doc_offsets_partial)"
   ]
  },
  {
   "cell_type": "code",
   "execution_count": 160,
   "id": "7c574ffc",
   "metadata": {},
   "outputs": [
    {
     "data": {
      "text/plain": [
       "2440"
      ]
     },
     "execution_count": 160,
     "metadata": {},
     "output_type": "execute_result"
    }
   ],
   "source": [
    "len(orf_doc_offsets_full)"
   ]
  },
  {
   "cell_type": "markdown",
   "id": "6b12e929",
   "metadata": {},
   "source": [
    "### Load order-bound matches"
   ]
  },
  {
   "cell_type": "code",
   "execution_count": 163,
   "id": "a3afaa96",
   "metadata": {},
   "outputs": [],
   "source": [
    "def order_free_matches(x, orf_offsets):\n",
    "    \n",
    "    labs_modified = []\n",
    "    \n",
    "    for i, (identifier, offs, labs) in enumerate( zip(x.pmid, x.offsets, x.labels) ):\n",
    "             \n",
    "        lab_val = [v for k, v in ast.literal_eval(labs).items()] \n",
    "        off_val = ast.literal_eval(offs) \n",
    "        \n",
    "        if str(identifier) in orf_offsets: \n",
    "            orf_matches =  orf_offsets[ str(identifier) ]\n",
    "            match_indices = [ off_val.index(m) for m in orf_matches ]\n",
    "            for i, l in enumerate(lab_val):\n",
    "                if i in match_indices:\n",
    "                    lab_val[i] = 1\n",
    "                    \n",
    "        labs_modified.append( lab_val )\n",
    "        \n",
    "        \n",
    "    return labs_modified"
   ]
  },
  {
   "cell_type": "code",
   "execution_count": 135,
   "id": "ed3f5366",
   "metadata": {},
   "outputs": [],
   "source": [
    "order_bound_file = f'/mnt/nas2/results/Results/systematicReview/order_free_matching/EBM_PICO_training_matches/direct/{picos}/lf_ds_intervention_syn.tsv'"
   ]
  },
  {
   "cell_type": "code",
   "execution_count": 136,
   "id": "6796b351",
   "metadata": {},
   "outputs": [],
   "source": [
    "data = pd.read_csv(order_bound_file, sep='\\t', header=0)"
   ]
  },
  {
   "cell_type": "code",
   "execution_count": 138,
   "id": "44d87659",
   "metadata": {},
   "outputs": [],
   "source": [
    "# Fetch ground truth\n",
    "\n",
    "# coarse\n",
    "picos_coarse_ = data[str(ent.lower())]\n",
    "picos_coarse = [ l for ent_series in picos_coarse_ for l in ast.literal_eval(ent_series) ]\n",
    "\n",
    "# fine\n",
    "picos_fine_ = data[ str(ent.lower()) + '_f' ]\n",
    "picos_fine = [ l for ent_series in picos_fine_ for l in ast.literal_eval(ent_series) ]\n",
    "picos_fine = ['1' if (n != '1' and n != '0') else str(n) for i, n in enumerate(picos_fine) ]"
   ]
  },
  {
   "cell_type": "code",
   "execution_count": 137,
   "id": "8b0ef21b",
   "metadata": {},
   "outputs": [],
   "source": [
    "# Fetch order-bound predictions\n",
    "\n",
    "preds = [ v for ent_series in data['labels'] for k, v in ast.literal_eval(ent_series).items() ]\n",
    "order_bound_preds = ['0' if n == -1 else str(n) for i, n in enumerate(preds) ]"
   ]
  },
  {
   "cell_type": "code",
   "execution_count": 167,
   "id": "91a6ecee",
   "metadata": {},
   "outputs": [],
   "source": [
    "# Fetch order-free predictions\n",
    "\n",
    "# ORF with partial\n",
    "data['orf_doc_labels_partial'] = order_free_matches( data, orf_doc_offsets_partial )\n",
    "preds_orf_doc_partial = [ v for ent_series in data['orf_doc_labels_partial'] for v in ent_series ]\n",
    "order_free_doc_partial_preds = ['0' if n == -1 else str(n) for i, n in enumerate(preds_orf_doc_partial) ]\n",
    "\n",
    "# ORF with full\n",
    "data['orf_doc_labels_full'] = order_free_matches( data, orf_doc_offsets_full )\n",
    "preds_orf_doc_full = [ v for ent_series in data['orf_doc_labels_full'] for v in ent_series ]\n",
    "order_free_doc_full_preds = ['0' if n == -1 else str(n) for i, n in enumerate(preds_orf_doc_full) ]"
   ]
  },
  {
   "cell_type": "markdown",
   "id": "90c4543a",
   "metadata": {},
   "source": [
    "### evaluation metrics"
   ]
  },
  {
   "cell_type": "markdown",
   "id": "56dfc28d",
   "metadata": {},
   "source": [
    "##### direct matching"
   ]
  },
  {
   "cell_type": "code",
   "execution_count": 144,
   "id": "91402349",
   "metadata": {},
   "outputs": [
    {
     "name": "stdout",
     "output_type": "stream",
     "text": [
      "Confusion matrix for coarse-grained ground truth and order-bound matches\n",
      "              precision    recall  f1-score   support\n",
      "\n",
      "           0     0.8836    0.8093    0.8448   1147447\n",
      "           1     0.1323    0.2143    0.1636    155722\n",
      "\n",
      "    accuracy                         0.7382   1303169\n",
      "   macro avg     0.5080    0.5118    0.5042   1303169\n",
      "weighted avg     0.7938    0.7382    0.7634   1303169\n",
      "\n",
      "\n",
      "\n",
      "Confusion matrix for fine-grained ground truth and order-bound matches\n",
      "              precision    recall  f1-score   support\n",
      "\n",
      "           0     0.9129    0.8108    0.8588   1183318\n",
      "           1     0.1122    0.2362    0.1522    119851\n",
      "\n",
      "    accuracy                         0.7579   1303169\n",
      "   macro avg     0.5126    0.5235    0.5055   1303169\n",
      "weighted avg     0.8393    0.7579    0.7938   1303169\n",
      "\n"
     ]
    }
   ],
   "source": [
    "# Classification report\n",
    "cr_order_bound_coarse = classification_report( picos_coarse, order_bound_preds, digits=4  )\n",
    "print('Confusion matrix for coarse-grained ground truth and order-bound matches')\n",
    "print( cr_order_bound_coarse )\n",
    "\n",
    "cr_order_bound_fine = classification_report( picos_fine, order_bound_preds, digits=4  )\n",
    "print('\\n\\nConfusion matrix for fine-grained ground truth and order-bound matches')\n",
    "print( cr_order_bound_fine )"
   ]
  },
  {
   "cell_type": "code",
   "execution_count": 165,
   "id": "e11823a9",
   "metadata": {},
   "outputs": [
    {
     "name": "stdout",
     "output_type": "stream",
     "text": [
      "Confusion matrix for coarse-grained ground truth and document level order-free matches\n",
      "              precision    recall  f1-score   support\n",
      "\n",
      "           0     0.8837    0.8089    0.8446   1147447\n",
      "           1     0.1329    0.2159    0.1645    155722\n",
      "\n",
      "    accuracy                         0.7380   1303169\n",
      "   macro avg     0.5083    0.5124    0.5046   1303169\n",
      "weighted avg     0.7940    0.7380    0.7634   1303169\n",
      "\n",
      "\n",
      "\n",
      "Confusion matrix for fine-grained ground truth and document level order-free matches\n",
      "              precision    recall  f1-score   support\n",
      "\n",
      "           0     0.9130    0.8103    0.8586   1183318\n",
      "           1     0.1127    0.2379    0.1530    119851\n",
      "\n",
      "    accuracy                         0.7577   1303169\n",
      "   macro avg     0.5129    0.5241    0.5058   1303169\n",
      "weighted avg     0.8394    0.7577    0.7937   1303169\n",
      "\n"
     ]
    }
   ],
   "source": [
    "# Classification report\n",
    "cr_order_free_doc_full_coarse = classification_report( picos_coarse, order_free_doc_full_preds, digits=4  )\n",
    "print('Confusion matrix for coarse-grained ground truth and document level order-free matches')\n",
    "print( cr_order_free_doc_full_coarse )\n",
    "\n",
    "cr_order_free_doc_full_fine = classification_report( picos_fine, order_free_doc_full_preds, digits=4  )\n",
    "print('\\n\\nConfusion matrix for fine-grained ground truth and document level order-free matches')\n",
    "print( cr_order_free_doc_full_fine )"
   ]
  },
  {
   "cell_type": "code",
   "execution_count": 168,
   "id": "2b5922a0",
   "metadata": {},
   "outputs": [
    {
     "name": "stdout",
     "output_type": "stream",
     "text": [
      "Confusion matrix for coarse-grained ground truth and document level order-free (partial) matches\n",
      "              precision    recall  f1-score   support\n",
      "\n",
      "           0     0.8838    0.8064    0.8433   1147447\n",
      "           1     0.1330    0.2188    0.1654    155722\n",
      "\n",
      "    accuracy                         0.7362   1303169\n",
      "   macro avg     0.5084    0.5126    0.5044   1303169\n",
      "weighted avg     0.7941    0.7362    0.7623   1303169\n",
      "\n",
      "\n",
      "\n",
      "Confusion matrix for fine-grained ground truth and document level order-free (partial) matches\n",
      "              precision    recall  f1-score   support\n",
      "\n",
      "           0     0.9132    0.8079    0.8573   1183318\n",
      "           1     0.1129    0.2414    0.1539    119851\n",
      "\n",
      "    accuracy                         0.7558   1303169\n",
      "   macro avg     0.5130    0.5246    0.5056   1303169\n",
      "weighted avg     0.8396    0.7558    0.7926   1303169\n",
      "\n"
     ]
    }
   ],
   "source": [
    "# Classification report\n",
    "cr_order_free_doc_partial_coarse = classification_report( picos_coarse, order_free_doc_partial_preds, digits=4  )\n",
    "print('Confusion matrix for coarse-grained ground truth and document level order-free (partial) matches')\n",
    "print( cr_order_free_doc_partial_coarse )\n",
    "\n",
    "cr_order_free_doc_partial_fine = classification_report( picos_fine, order_free_doc_partial_preds, digits=4  )\n",
    "print('\\n\\nConfusion matrix for fine-grained ground truth and document level order-free (partial) matches')\n",
    "print( cr_order_free_doc_partial_fine )"
   ]
  },
  {
   "cell_type": "code",
   "execution_count": null,
   "id": "21dcc6cb",
   "metadata": {},
   "outputs": [],
   "source": []
  },
  {
   "cell_type": "code",
   "execution_count": null,
   "id": "4c59e548",
   "metadata": {},
   "outputs": [],
   "source": []
  },
  {
   "cell_type": "code",
   "execution_count": null,
   "id": "0cfe7aff",
   "metadata": {},
   "outputs": [],
   "source": []
  }
 ],
 "metadata": {
  "kernelspec": {
   "display_name": "Python 3",
   "language": "python",
   "name": "python3"
  },
  "language_info": {
   "codemirror_mode": {
    "name": "ipython",
    "version": 3
   },
   "file_extension": ".py",
   "mimetype": "text/x-python",
   "name": "python",
   "nbconvert_exporter": "python",
   "pygments_lexer": "ipython3",
   "version": "3.8.10"
  }
 },
 "nbformat": 4,
 "nbformat_minor": 5
}
